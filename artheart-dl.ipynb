{
 "cells": [
  {
   "cell_type": "code",
   "execution_count": null,
   "metadata": {},
   "outputs": [],
   "source": [
    "def load_data(dir):\n",
    "    data = []\n",
    "    order = []\n",
    "    for file in os.listdir(dir):\n",
    "        if file.endswith(\".csv\"):\n",
    "            print(os.path.join(dir, file))\n",
    "            df = pd.read_csv(os.path.join(dir, file),on_bad_lines='skip')\n",
    "            if not df.empty:\n",
    "                order.append(int(file[:-4]))\n",
    "                data.append(df)\n",
    "    return data, order\n",
    "\n",
    "\n",
    "try:\n",
    "    Group1, Group1_order = load_data(\"/mnt/ArtHeart/Data/Group 1\")\n",
    "    Group2, Group2_order = load_data(\"/mnt/ArtHeart/Data/Group 2\")\n",
    "    Group3, Group3_order = load_data(\"/mnt/ArtHeart/Data/Group 3\")\n",
    "except:\n",
    "    try:\n",
    "        Group1, Group1_order = load_data(\"Data/Group 1\")\n",
    "        Group2, Group2_order = load_data(\"Data/Group 2\")\n",
    "        Group3, Group3_order = load_data(\"Data/Group 3\")\n",
    "    except:\n",
    "        Group1, Group1_order = load_data(\"W:\\PhD\\ArtHeart\\Data\\Group 1\")\n",
    "        Group2, Group2_order = load_data(\"W:\\PhD\\ArtHeart\\Data\\Group 2\")\n",
    "        Group3, Group3_order = load_data(\"W:\\PhD\\ArtHeart\\Data\\Group 3\")"
   ]
  }
 ],
 "metadata": {
  "language_info": {
   "name": "python"
  },
  "orig_nbformat": 4
 },
 "nbformat": 4,
 "nbformat_minor": 2
}
