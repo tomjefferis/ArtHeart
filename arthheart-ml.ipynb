{
 "cells": [
  {
   "cell_type": "code",
   "execution_count": 9,
   "metadata": {},
   "outputs": [],
   "source": [
    "import pandas as pd\n",
    "import numpy as np\n",
    "import os"
   ]
  },
  {
   "cell_type": "code",
   "execution_count": 10,
   "metadata": {},
   "outputs": [
    {
     "name": "stdout",
     "output_type": "stream",
     "text": [
      "/mnt/ArtHeart/Data/Group 1 Scores.xlsx\n",
      "/mnt/ArtHeart/Data/\n",
      "W:\\PhD\\ArtHeart\\Data\\Group 1 Scores.xlsx\n",
      "W:\\PhD\\ArtHeart\\Data\\\n",
      "Data/Group 1 Scores.xlsx\n",
      "Data/\n",
      "Data/Group 2 Scores.xlsx\n",
      "Data/\n",
      "Data/Group 3 Scores.csv\n",
      "Data\n"
     ]
    }
   ],
   "source": [
    "Group1_scores = []\n",
    "Group2_scores = []\n",
    "Group3_scores = []\n",
    "\n",
    "def emotion_definer(emotions):\n",
    "    emotions = emotions.split(\";\")\n",
    "    emotions = [x.strip(' ') for x in emotions]\n",
    "    valence_score = []\n",
    "    arousal_score = []\n",
    "    for emotion in emotions:\n",
    "        emotion = emotion.lower()\n",
    "        if emotion == 'happy' or emotion == 'immersed':\n",
    "            valence_score.append(1)\n",
    "            arousal_score.append(0)\n",
    "        elif emotion == 'sad':\n",
    "            valence_score.append(-1)\n",
    "            arousal_score.append(0)\n",
    "        elif emotion == 'angry' or 'frustrated' in emotion or 'annoyed' in emotion:\n",
    "            valence_score.append(-0.5)\n",
    "            arousal_score.append(1)\n",
    "        elif emotion == 'tense' or emotion == 'confused':\n",
    "            valence_score.append(-0.25)\n",
    "            arousal_score.append(1)\n",
    "        elif emotion == 'relaxed' or emotion == 'intrigued' or emotion == 'interest':\n",
    "            valence_score.append(0.5)\n",
    "            arousal_score.append(-1)\n",
    "        elif emotion == 'excited' or emotion == 'hyped up' or emotion == 'hypedup':\n",
    "            valence_score.append(0.5)\n",
    "            arousal_score.append(1)\n",
    "        elif emotion == 'delighted':\n",
    "            valence_score.append(1)\n",
    "            arousal_score.append(1)\n",
    "        elif emotion == 'bored':\n",
    "            valence_score.append(-1)\n",
    "            arousal_score.append(-1)\n",
    "        elif emotion == 'content':\n",
    "            valence_score.append(1)\n",
    "            arousal_score.append(-0.25)\n",
    "        elif emotion == 'calm' or emotion == 'mellow':\n",
    "            valence_score.append(0)\n",
    "            arousal_score.append(-1)\n",
    "        elif emotion == 'sleepy' or emotion == 'tired':\n",
    "            valence_score.append(0)\n",
    "            arousal_score.append(-1)\n",
    "        elif emotion == 'nervous' or 'anxious' in emotion or emotion == 'scared':\n",
    "            valence_score.append(-1)\n",
    "            arousal_score.append(0.25)\n",
    "        elif emotion == 'alright' or emotion == 'fine' or emotion == 'other':\n",
    "            valence_score.append(0)\n",
    "            arousal_score.append(0)\n",
    "        \n",
    "    if not valence_score:\n",
    "        valence_score.append(0)\n",
    "    if not arousal_score:\n",
    "        arousal_score.append(0)\n",
    "\n",
    "    val = np.mean(valence_score)\n",
    "    aro = np.mean(arousal_score)\n",
    "\n",
    "    if val is np.nan:\n",
    "        val = 0\n",
    "    if aro is np.nan:\n",
    "        aro = 0\n",
    "        \n",
    "    return (val, aro)\n",
    "        \n",
    "        \n",
    "        \n",
    "    \n",
    "def load_Scores(location):\n",
    "    print(location)\n",
    "    folder = location[:-19]\n",
    "    print(folder)\n",
    "    var = os.listdir(folder)\n",
    "    group = ''\n",
    "\n",
    "    if \"Group 1\" in location:\n",
    "        group = \"Group 1\"\n",
    "    elif \"Group 2\" in location:\n",
    "        group = \"Group 2\"\n",
    "    elif \"Group 3\" in location:\n",
    "        group = \"Group 3\"\n",
    "        folder = folder + \"/\"\n",
    "\n",
    "    for file in var:\n",
    "        if group in file:\n",
    "            if \"xlsx\" in file:\n",
    "                location = folder + file\n",
    "                data = pd.read_excel(location)\n",
    "            elif \"csv\" in file:\n",
    "                location = folder + file\n",
    "                data = pd.read_csv(location)\n",
    "\n",
    "\n",
    "    if \"How would you rate this performance?\" in data.columns:\n",
    "        order = data[\"Watch ID\"]\n",
    "        scores = data[\"How would you rate this performance?\"]\n",
    "    elif \"How did you rate the performance?\" in data.columns:\n",
    "        order = data[\"Watch ID\"]\n",
    "        scores  = data[\"How did you rate the performance?\"]\n",
    "    elif \"How would you rate this performance?（10 is the best）\" in data.columns:\n",
    "        order = data[\"ID\"]\n",
    "        scores  = data[\"How would you rate this performance?（10 is the best）\"]\n",
    "\n",
    "    if \"How would you describe your feelings through the performance?\" in data.columns:\n",
    "        emotions = data[\"How would you describe your feelings through the performance?\"]\n",
    "    elif \"How do you describe your feeling during the programme? You may make multiple choices.\\n\" in data.columns:\n",
    "        emotions = data[\"How do you describe your feeling during the programme? You may make multiple choices.\\n\"]\n",
    "        \n",
    "    emotions = emotions.apply(emotion_definer)\n",
    "        \n",
    "    return scores, order, emotions\n",
    "\n",
    "\n",
    "def match_scores_to_data(scores, scores_order, emotions, data, data_order):\n",
    "    matched_scores = []\n",
    "    matched_data = []\n",
    "    matched_emotions = []\n",
    "\n",
    "    # Zip the scores and order and the data and data order\n",
    "    scores_zip = zip(scores_order, scores, emotions)\n",
    "    data_zip = zip(data_order, data)\n",
    "\n",
    "    # Sort the zipped lists by order\n",
    "    scores_zip = sorted(scores_zip, key=lambda x: x[0])\n",
    "    data_zip = sorted(data_zip, key=lambda x: x[0])\n",
    "\n",
    "    # Unzip the sorted lists\n",
    "    sorted_scores_order, sorted_scores, sorted_emotions = zip(*scores_zip)\n",
    "    sorted_data_order, sorted_data = zip(*data_zip)\n",
    "\n",
    "    # Match the scores to the data using the order of each\n",
    "    for i in range(min(len(sorted_scores_order), len(sorted_data_order))):\n",
    "        if sorted_scores_order[i] == sorted_data_order[i]:\n",
    "            matched_scores.append(sorted_scores[i])\n",
    "            matched_data.append(sorted_data[i])\n",
    "            matched_emotions.append(emotions[i])\n",
    "    return matched_scores, matched_data, matched_emotions\n",
    "\n",
    "def load_data(location):\n",
    "    data1_loc = location + \"/group1_processed.csv\"\n",
    "    data2_loc = location + \"/group2_processed.csv\"\n",
    "    data3_loc = location + \"/group3_processed.csv\"\n",
    "    data1 = pd.read_csv(data1_loc)\n",
    "    data2 = pd.read_csv(data2_loc)\n",
    "    data3 = pd.read_csv(data3_loc)\n",
    "\n",
    "    order1 = data1[\"Order\"].values\n",
    "    order2 = data2[\"Order\"].values\n",
    "    order3 = data3[\"Order\"].values\n",
    "\n",
    "    data1 = data1.drop([\"Order\"], axis=1).values.tolist()\n",
    "    data2 = data2.drop([\"Order\"], axis=1).values.tolist()\n",
    "    data3 = data3.drop([\"Order\"], axis=1).values.tolist()\n",
    "\n",
    "\n",
    "    return data1, data2, data3, order1, order2, order3\n",
    "\n",
    "\n",
    "try:\n",
    "    Group1_scores, Group1_scores_order, Group1_emotions = load_Scores(\"/mnt/ArtHeart/Data/Group 1 Scores.xlsx\")\n",
    "    Group2_scores,Group2_scores_order, Group2_emotions = load_Scores(\"/mnt/ArtHeart/Data/Group 2 Scores.xlsx\")\n",
    "    Group3_scores,Group3_scores_order, Group3_emotions = load_Scores(\"/mnt/ArtHeart/Data/Group 3 Scores.csv\")\n",
    "    Group1_processed, Group2_processed, Group3_processed, Group1_order, Group2_order, Group3_order = load_data(\"/mnt/ArtHeart/Data\")\n",
    "except:\n",
    "    try:\n",
    "        Group1_scores, Group1_scores_order, Group1_emotions = load_Scores(\"W:\\PhD\\ArtHeart\\Data\\Group 1 Scores.xlsx\")\n",
    "        Group2_scores,Group2_scores_order, Group2_emotions = load_Scores(\"W:\\PhD\\ArtHeart\\Data\\Group 2 Scores.xlsx\")\n",
    "        Group3_scores,Group3_scores_order, Group3_emotions = load_Scores(\"W:\\PhD\\ArtHeart\\Data\\Group 3 Scores.csv\")\n",
    "        Group1_processed, Group2_processed, Group3_processed, Group1_order, Group2_order, Group3_order = load_data(\"W:\\PhD\\ArtHeart\\Data\")\n",
    "\n",
    "    except:\n",
    "        Group1_scores, Group1_scores_order, Group1_emotions = load_Scores(\"Data/Group 1 Scores.xlsx\")\n",
    "        Group2_scores,Group2_scores_order, Group2_emotions = load_Scores(\"Data/Group 2 Scores.xlsx\")\n",
    "        Group3_scores,Group3_scores_order, Group3_emotions = load_Scores(\"Data/Group 3 Scores.csv\")\n",
    "        Group1_processed, Group2_processed, Group3_processed, Group1_order, Group2_order, Group3_order = load_data(\"Data\")\n",
    "\n",
    "\n",
    "\n",
    "\n",
    "\n",
    "#Group1_scores, Group1_processed, Group1_emotions = match_scores_to_data(Group1_scores, Group1_scores_order, Group1_emotions, Group1_processed, Group1_order)\n",
    "Group2_scores, Group2_processed, Group2_emotions = match_scores_to_data(Group2_scores, Group2_scores_order, Group2_emotions, Group2_processed, Group2_order)\n",
    "Group3_scores, Group3_processed, Group3_emotions = match_scores_to_data(Group3_scores, Group3_scores_order, Group3_emotions, Group3_processed, Group3_order)\n"
   ]
  },
  {
   "cell_type": "code",
   "execution_count": 11,
   "metadata": {},
   "outputs": [
    {
     "name": "stdout",
     "output_type": "stream",
     "text": [
      "37 32 32\n",
      "30 30 30\n",
      "30 30 30\n"
     ]
    }
   ],
   "source": [
    "# shape of data, shape of scores, shape of emotions\n",
    "print(len(Group1_processed), len(Group1_scores), len(Group1_emotions))\n",
    "print(len(Group2_processed), len(Group2_scores), len(Group2_emotions))\n",
    "print(len(Group3_processed), len(Group3_scores), len(Group3_emotions))"
   ]
  },
  {
   "cell_type": "code",
   "execution_count": 12,
   "metadata": {
    "collapsed": false
   },
   "outputs": [],
   "source": [
    "from sklearn.preprocessing import StandardScaler\n",
    "def score_calculator(scores, emotions):\n",
    "    scores = np.array(scores)\n",
    "    valence = np.array(emotions)[:,0]\n",
    "    arousal = np.array(emotions)[:,1]\n",
    "    valence_score = scores * valence\n",
    "    arousal_score = scores * arousal\n",
    "\n",
    "    std = StandardScaler()\n",
    "    valence_score = std.fit_transform(valence_score.reshape(-1,1))\n",
    "    arousal_score = std.fit_transform(arousal_score.reshape(-1,1))\n",
    "\n",
    "    mean_valence = np.mean(valence_score)\n",
    "    mean_arousal = np.mean(arousal_score)\n",
    "\n",
    "    for i in range(len(valence_score)):\n",
    "        if valence_score[i] > mean_valence:\n",
    "            valence[i] = 1\n",
    "        else:\n",
    "            valence[i] = 0\n",
    "\n",
    "        if arousal_score[i] > mean_arousal:\n",
    "            arousal[i] = 1\n",
    "        else:\n",
    "            arousal[i] = 0\n",
    "\n",
    "    return arousal, valence\n",
    "\n",
    "\n",
    "#Group1_arousal, Group1_valence = score_calculator(Group1_scores, Group1_emotions)\n",
    "Group2_arousal, Group2_valence = score_calculator(Group2_scores, Group2_emotions)\n",
    "Group3_arousal, Group3_valence = score_calculator(Group3_scores, Group3_emotions)\n"
   ]
  },
  {
   "cell_type": "code",
   "execution_count": 13,
   "metadata": {},
   "outputs": [
    {
     "name": "stdout",
     "output_type": "stream",
     "text": [
      "(30,)\n",
      "(30,)\n",
      "(30,)\n",
      "(30,)\n"
     ]
    }
   ],
   "source": [
    "\n",
    "print(Group2_arousal.shape)\n",
    "print(Group2_valence.shape)\n",
    "\n",
    "print(Group3_arousal.shape)\n",
    "print(Group3_valence.shape)"
   ]
  },
  {
   "cell_type": "markdown",
   "metadata": {},
   "source": [
    "Group 2 SVM"
   ]
  },
  {
   "cell_type": "code",
   "execution_count": 14,
   "metadata": {},
   "outputs": [
    {
     "name": "stderr",
     "output_type": "stream",
     "text": [
      "/opt/homebrew/Caskroom/miniforge/base/envs/ArtHeart/lib/python3.10/site-packages/sklearn/feature_selection/_univariate_selection.py:112: UserWarning: Features [24] are constant.\n",
      "  warnings.warn(\"Features %s are constant.\" % constant_features_idx, UserWarning)\n",
      "/opt/homebrew/Caskroom/miniforge/base/envs/ArtHeart/lib/python3.10/site-packages/sklearn/feature_selection/_univariate_selection.py:113: RuntimeWarning: invalid value encountered in divide\n",
      "  f = msb / msw\n"
     ]
    }
   ],
   "source": [
    "from sklearn.feature_selection import SelectKBest\n",
    "from sklearn.feature_selection import f_classif\n",
    "\n",
    "# Assuming your data is stored in a variable called X and your target variable is stored in a variable called y\n",
    "# You can replace k with the number of features you want to keep\n",
    "selector = SelectKBest(f_classif, k=10)\n",
    "Group2_processed_fit = selector.fit_transform(Group2_processed, Group2_arousal)\n"
   ]
  },
  {
   "cell_type": "code",
   "execution_count": 15,
   "metadata": {},
   "outputs": [
    {
     "name": "stdout",
     "output_type": "stream",
     "text": [
      "(30, 10)\n"
     ]
    }
   ],
   "source": [
    "from sklearn.model_selection import train_test_split\n",
    "from sklearn.preprocessing import StandardScaler\n",
    "\n",
    "\n",
    "\n",
    "Group2_processed_fit = np.array(Group2_processed_fit)\n",
    "Group2_arousal_score = np.array(Group2_arousal)\n",
    "\n",
    "\n",
    "std = StandardScaler()\n",
    "Group2_processed_std = std.fit_transform(Group2_processed_fit)\n",
    "print(Group2_processed_std.shape)\n"
   ]
  },
  {
   "cell_type": "code",
   "execution_count": 16,
   "metadata": {},
   "outputs": [],
   "source": [
    "# Split the data into training and testing sets\n",
    "X_train, X_test, y_train, y_test = train_test_split(Group2_processed_std, Group2_arousal_score, test_size=0.2, random_state=42)"
   ]
  },
  {
   "cell_type": "code",
   "execution_count": 17,
   "metadata": {},
   "outputs": [
    {
     "name": "stdout",
     "output_type": "stream",
     "text": [
      "Random Forest accuracy: 0.6666666666666666\n"
     ]
    }
   ],
   "source": [
    "from sklearn.ensemble import RandomForestClassifier\n",
    "\n",
    "\n",
    "# Create and train the Random Forest model\n",
    "rf = RandomForestClassifier(n_estimators=100, max_depth=10, random_state=42)\n",
    "rf.fit(X_train, y_train)\n",
    "\n",
    "# Evaluate the model on the testing set\n",
    "accuracy = rf.score(X_test, y_test)\n",
    "print(f'Random Forest accuracy: {accuracy}')\n"
   ]
  },
  {
   "cell_type": "code",
   "execution_count": 18,
   "metadata": {},
   "outputs": [
    {
     "data": {
      "text/plain": "<Figure size 640x480 with 2 Axes>",
      "image/png": "[encoded data removed]"
     },
     "metadata": {},
     "output_type": "display_data"
    }
   ],
   "source": [
    "import seaborn as sns\n",
    "from sklearn.metrics import confusion_matrix\n",
    "import matplotlib.pyplot as plt\n",
    "\n",
    "cm = confusion_matrix(y_test, rf.predict(X_test))\n",
    "cm_norm = cm / cm.sum(axis=1).reshape(-1,1)\n",
    "sns.heatmap(cm_norm, annot=True, cmap='Blues')\n",
    "plt.xlabel('Predicted')\n",
    "plt.ylabel('Actual')\n",
    "plt.title('Confusion matrix of RF classifier')\n",
    "plt.show()"
   ]
  },
  {
   "cell_type": "code",
   "execution_count": 19,
   "metadata": {},
   "outputs": [
    {
     "name": "stdout",
     "output_type": "stream",
     "text": [
      "SVM accuracy: 0.8333333333333334\n"
     ]
    }
   ],
   "source": [
    "from sklearn.svm import SVC\n",
    "# Create and train the SVM model\n",
    "svm = SVC()\n",
    "svm.fit(X_train, y_train)\n",
    "\n",
    "# Evaluate the model on the testing set\n",
    "accuracy = svm.score(X_test, y_test)\n",
    "print(f'SVM accuracy: {accuracy}')"
   ]
  },
  {
   "cell_type": "markdown",
   "metadata": {},
   "source": [
    "Seaborn confusion matrix"
   ]
  },
  {
   "cell_type": "code",
   "execution_count": 20,
   "metadata": {},
   "outputs": [
    {
     "data": {
      "text/plain": "<Figure size 640x480 with 2 Axes>",
      "image/png": "[encoded data removed]"
     },
     "metadata": {},
     "output_type": "display_data"
    }
   ],
   "source": [
    "\n",
    "\n",
    "# Plot the confusion matrix\n",
    "cm = confusion_matrix(y_test, svm.predict(X_test))\n",
    "cm_norm = cm / cm.sum(axis=1).reshape(-1,1)\n",
    "sns.heatmap(cm_norm, annot=True, cmap='Blues')\n",
    "plt.xlabel('Predicted')\n",
    "plt.ylabel('Actual')\n",
    "plt.title('Confusion matrix of SVM classifier')\n",
    "plt.show()"
   ]
  },
  {
   "cell_type": "code",
   "execution_count": 25,
   "metadata": {},
   "outputs": [
    {
     "name": "stdout",
     "output_type": "stream",
     "text": [
      "(30, 10)\n"
     ]
    },
    {
     "name": "stderr",
     "output_type": "stream",
     "text": [
      "/opt/homebrew/Caskroom/miniforge/base/envs/ArtHeart/lib/python3.10/site-packages/sklearn/feature_selection/_univariate_selection.py:112: UserWarning: Features [24] are constant.\n",
      "  warnings.warn(\"Features %s are constant.\" % constant_features_idx, UserWarning)\n",
      "/opt/homebrew/Caskroom/miniforge/base/envs/ArtHeart/lib/python3.10/site-packages/sklearn/feature_selection/_univariate_selection.py:113: RuntimeWarning: invalid value encountered in divide\n",
      "  f = msb / msw\n"
     ]
    }
   ],
   "source": [
    "\n",
    "\n",
    "y = Group2_valence\n",
    "y = np.array(y)\n",
    "\n",
    "selector = SelectKBest(f_classif, k=10)\n",
    "Group2_processed_fit = selector.fit_transform(Group2_processed, Group2_arousal)\n",
    "\n",
    "\n",
    "Group2_processed_fit = np.array(Group2_processed_fit)\n",
    "\n",
    "\n",
    "std = StandardScaler()\n",
    "Group2_processed_std = std.fit_transform(Group2_processed_fit)\n",
    "print(Group2_processed_std.shape)\n",
    "\n",
    "\n",
    "# Split the data into training and testing sets\n",
    "X_train, X_test, y_train, y_test = train_test_split(Group2_processed_std, y, test_size=0.2, random_state=42)\n",
    "\n"
   ]
  },
  {
   "cell_type": "code",
   "execution_count": 26,
   "outputs": [
    {
     "name": "stdout",
     "output_type": "stream",
     "text": [
      "SVM accuracy: 0.5\n"
     ]
    }
   ],
   "source": [
    "# Create and train the SVM model\n",
    "svm = SVC()\n",
    "svm.fit(X_train, y_train)\n",
    "\n",
    "# Evaluate the model on the testing set\n",
    "accuracy = svm.score(X_test, y_test)\n",
    "print(f'SVM accuracy: {accuracy}')"
   ],
   "metadata": {
    "collapsed": false
   }
  },
  {
   "cell_type": "code",
   "execution_count": null,
   "outputs": [],
   "source": [],
   "metadata": {
    "collapsed": false
   }
  }
 ],
 "metadata": {
  "kernelspec": {
   "display_name": "Python 3 (ipykernel)",
   "language": "python",
   "name": "python3"
  },
  "language_info": {
   "codemirror_mode": {
    "name": "ipython",
    "version": 3
   },
   "file_extension": ".py",
   "mimetype": "text/x-python",
   "name": "python",
   "nbconvert_exporter": "python",
   "pygments_lexer": "ipython3",
   "version": "3.10.11"
  },
  "orig_nbformat": 4
 },
 "nbformat": 4,
 "nbformat_minor": 2
}
