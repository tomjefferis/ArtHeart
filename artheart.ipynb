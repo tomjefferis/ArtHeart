{
 "cells": [
  {
   "cell_type": "code",
   "execution_count": 49,
   "metadata": {},
   "outputs": [],
   "source": [
    "import os\n",
    "import scipy as sp\n",
    "import numpy as np\n",
    "import pandas as pd\n",
    "import matplotlib.pyplot as plt"
   ]
  },
  {
   "attachments": {},
   "cell_type": "markdown",
   "metadata": {},
   "source": [
    "Load Data"
   ]
  },
  {
   "cell_type": "code",
   "execution_count": 50,
   "metadata": {},
   "outputs": [
    {
     "name": "stdout",
     "output_type": "stream",
     "text": [
      "Data/Group 1/WRT_WRT_DB:BA:5D:28:F4:C1_2022-08-28 21:43:06.csv\n",
      "Data/Group 1/WRT_WRT_E1:B8:F8:F2:CE:22_2022-08-28 22:01:02.csv\n",
      "Data/Group 1/WRT_WRT_D7:DD:AE:B4:E6:35_2022-08-28 21:46:47.csv\n",
      "Data/Group 1/WRT_WRT_C7:D4:23:10:CC:64_2022-08-28 21:30:36.csv\n",
      "Data/Group 1/WRT_WRT_EC:BC:BD:73:20:A9_2022-08-28 21:44:43.csv\n",
      "Data/Group 1/WRT_WRT_F8:8B:C5:5C:D9:5D_2022-08-28 22:32:46.csv\n",
      "Data/Group 1/WRT_WRT_C7:C3:E6:76:32:D9_2022-08-28 22:27:10.csv\n",
      "Data/Group 1/WRT_WRT_C8:46:62:32:B0:4F_2022-08-28 22:34:46.csv\n",
      "Data/Group 1/WRT_WRT_EA:5D:8A:61:72:EE_2022-08-28 22:03:11.csv\n",
      "Data/Group 1/WRT_WRT_DB:92:4D:E9:1A:1E_2022-08-28 21:50:19.csv\n",
      "Data/Group 1/WRT_WRT_EE:FA:70:F9:EC:CC_2022-08-28 22:18:49.csv\n",
      "Data/Group 1/WRT_WRT_E2:D0:DF:09:B7:C4_2022-08-28 21:57:41.csv\n",
      "Data/Group 1/WRT_WRT_F5:0D:30:BD:11:6F_2022-08-28 22:17:18.csv\n",
      "Data/Group 1/WRT_WRT_F1:20:19:D6:DA:85_2022-08-28 22:06:27.csv\n",
      "Data/Group 1/WRT_WRT_EE:59:B1:F9:6A:0F_2022-08-28 21:34:57.csv\n",
      "Data/Group 1/WRT_WRT_F8:D6:AB:BD:20:53_2022-08-28 21:48:33.csv\n",
      "Data/Group 1/WRT_WRT_C9:F7:2F:AA:F6:11_2022-08-28 21:29:14.csv\n",
      "Data/Group 1/WRT_WRT_D9:BD:1D:DF:8F:09_2022-08-28 22:25:30.csv\n",
      "Data/Group 1/WRT_WRT_CD:7D:EB:4A:42:29_2022-08-28 22:28:42.csv\n",
      "Data/Group 1/WRT_WRT_F7:7D:3E:34:7F:5A_2022-08-28 21:59:12.csv\n",
      "Data/Group 1/WRT_WRT_C1:F3:B9:36:9C:45_2022-08-28 22:15:51.csv\n",
      "Data/Group 1/WRT_WRT_F1:42:67:4A:18:C9_2022-08-28 22:04:47.csv\n",
      "Data/Group 1/WRT_WRT_DA:84:11:29:64:04_2022-08-28 21:54:25.csv\n",
      "Data/Group 1/WRT_WRT_D4:DF:C7:78:69:E8_2022-08-28 21:38:21.csv\n",
      "Data/Group 1/WRT_WRT_C7:D4:23:10:CC:64_2022-08-28 21:31:40.csv\n",
      "Data/Group 1/WRT_WRT_C5:78:97:41:E1:4D_2022-08-28 22:39:10.csv\n",
      "Data/Group 1/WRT_WRT_E5:45:E8:E9:A1:68_2022-08-28 21:40:05.csv\n",
      "Data/Group 1/WRT_WRT_F1:75:41:4F:40:59_2022-08-28 21:51:44.csv\n",
      "Data/Group 1/WRT_WRT_E9:25:0D:E7:59:5E_2022-08-28 21:56:01.csv\n",
      "Data/Group 1/WRT_WRT_D0:C2:B6:A1:40:50_2022-08-28 21:32:43.csv\n",
      "Data/Group 1/WRT_WRT_D3:11:6F:6E:6A:E7_2022-08-28 22:21:53.csv\n",
      "Data/Group 1/WRT_WRT_C7:45:BE:D7:B2:97_2022-08-28 22:20:33.csv\n",
      "Data/Group 1/WRT_WRT_EC:C9:08:1F:4C:30_2022-08-28 21:36:30.csv\n",
      "Data/Group 1/WRT_WRT_DC:30:24:F2:17:B1_2022-08-28 22:37:20.csv\n",
      "Data/Group 1/WRT_WRT_FE:61:FC:B9:BF:9C_2022-08-28 21:53:03.csv\n",
      "Data/Group 1/WRT_WRT_D0:B3:40:86:4B:2F_2022-08-28 22:10:02.csv\n",
      "Data/Group 1/WRT_WRT_CB:51:CD:03:2C:63_2022-08-28 21:41:39.csv\n",
      "Data/Group 1/WRT_WRT_EF:AC:95:74:80:AA_2022-08-28 22:23:30.csv\n",
      "Data/Group 1/WRT_WRT_F6:B6:D6:35:7E:93_2022-08-28 22:31:07.csv\n",
      "Data/Group 1/WRT_WRT_DD:4B:A8:B3:0D:E1_2022-08-28 22:08:20.csv\n",
      "Data/Group 2/6.csv\n",
      "Data/Group 2/40.csv\n",
      "Data/Group 2/7.csv\n",
      "Data/Group 2/5.csv\n",
      "Data/Group 2/4.csv\n",
      "Data/Group 2/42.csv\n",
      "Data/Group 2/46.csv\n",
      "Data/Group 2/1.csv\n",
      "Data/Group 2/47.csv\n",
      "Data/Group 2/3.csv\n",
      "Data/Group 2/44.csv\n",
      "Data/Group 2/2.csv\n",
      "Data/Group 2/37.csv\n",
      "Data/Group 2/22.csv\n",
      "Data/Group 2/20.csv\n",
      "Data/Group 2/34.csv\n",
      "Data/Group 2/35.csv\n",
      "Data/Group 2/21.csv\n",
      "Data/Group 2/25.csv\n",
      "Data/Group 2/31.csv\n",
      "Data/Group 2/19.csv\n",
      "Data/Group 2/18.csv\n",
      "Data/Group 2/24.csv\n",
      "Data/Group 2/32.csv\n",
      "Data/Group 2/27.csv\n",
      "Data/Group 2/33.csv\n",
      "Data/Group 2/16.csv\n",
      "Data/Group 2/17.csv\n",
      "Data/Group 2/29.csv\n",
      "Data/Group 2/14.csv\n",
      "Data/Group 2/28.csv\n",
      "Data/Group 2/10.csv\n",
      "Data/Group 2/38.csv\n",
      "Data/Group 2/39.csv\n",
      "Data/Group 2/11.csv\n",
      "Data/Group 2/13.csv\n",
      "Data/Group 2/48.csv\n",
      "Data/Group 2/9.csv\n",
      "Data/Group 2/8.csv\n",
      "Data/Group 3/6.csv\n",
      "Data/Group 3/7.csv\n",
      "Data/Group 3/5.csv\n",
      "Data/Group 3/4.csv\n",
      "Data/Group 3/1.csv\n",
      "Data/Group 3/3.csv\n",
      "Data/Group 3/2.csv\n",
      "Data/Group 3/37.csv\n",
      "Data/Group 3/22.csv\n",
      "Data/Group 3/36.csv\n",
      "Data/Group 3/20.csv\n",
      "Data/Group 3/34.csv\n",
      "Data/Group 3/35.csv\n",
      "Data/Group 3/21.csv\n",
      "Data/Group 3/25.csv\n",
      "Data/Group 3/31.csv\n",
      "Data/Group 3/19.csv\n",
      "Data/Group 3/30.csv\n",
      "Data/Group 3/24.csv\n",
      "Data/Group 3/32.csv\n",
      "Data/Group 3/26.csv\n",
      "Data/Group 3/27.csv\n",
      "Data/Group 3/16.csv\n",
      "Data/Group 3/17.csv\n",
      "Data/Group 3/29.csv\n",
      "Data/Group 3/14.csv\n",
      "Data/Group 3/28.csv\n",
      "Data/Group 3/10.csv\n",
      "Data/Group 3/38.csv\n",
      "Data/Group 3/13.csv\n",
      "Data/Group 3/9.csv\n",
      "Data/Group 3/8.csv\n"
     ]
    }
   ],
   "source": [
    "def load_data(dir):\n",
    "    data = []\n",
    "    for file in os.listdir(dir):\n",
    "        if file.endswith(\".csv\"):\n",
    "            print(os.path.join(dir, file))\n",
    "            df = pd.read_csv(os.path.join(dir, file),on_bad_lines='skip')\n",
    "            if not df.empty:\n",
    "                data.append(df)\n",
    "    return data\n",
    "\n",
    "\n",
    "try:\n",
    "    Group1 = load_data(\"/mnt/ArtHeart/Data/Group 1\")\n",
    "    Group2 = load_data(\"/mnt/ArtHeart/Data/Group 2\")\n",
    "    Group3 = load_data(\"/mnt/ArtHeart/Data/Group 3\")\n",
    "except:\n",
    "    Group1 = load_data(\"Data/Group 1\")\n",
    "    Group2 = load_data(\"Data/Group 2\")\n",
    "    Group3 = load_data(\"Data/Group 3\")\n",
    "\n",
    "\n"
   ]
  },
  {
   "attachments": {},
   "cell_type": "markdown",
   "metadata": {},
   "source": [
    "Starting with withing group comparisons"
   ]
  },
  {
   "cell_type": "code",
   "execution_count": 51,
   "metadata": {},
   "outputs": [],
   "source": [
    "def interpolate_nan(data):\n",
    "    for i in range(len(data)):\n",
    "        df = data[i]\n",
    "        df['UTC'] = df['UTC'].interpolate()\n",
    "        data[i] = df\n",
    "    return data\n",
    "\n",
    "\n",
    "def cut_to_common_length(data):\n",
    "\n",
    "    # Interpolate NaN values\n",
    "    data = interpolate_nan(data)\n",
    "\n",
    "    # Find the shortest dataframe\n",
    "    shortest_df = min(data, key=lambda x: len(x))\n",
    "\n",
    "    # Find the first value of UTC in the shortest dataframe that isn't NaN\n",
    "    first_utc = shortest_df['UTC'].first_valid_index()\n",
    "    first_utc_value = shortest_df['UTC'][first_utc]\n",
    "\n",
    "    # Find the length of the dataframe from that point to the end\n",
    "    length = len(shortest_df.loc[first_utc:])\n",
    "\n",
    "    # Cut all dataframes to the same length and reset the index\n",
    "    for i in range(len(data)):\n",
    "        df = data[i]\n",
    "\n",
    "        if first_utc_value in df['UTC'].values:\n",
    "            match_utc_index = df[df['UTC'] == first_utc_value].index[0]\n",
    "        else:\n",
    "            match_utc_index = df.iloc[(df['UTC']-first_utc_value).abs().argsort()[:1]].index[0]\n",
    "\n",
    "        df = df.loc[match_utc_index:].iloc[:length].reset_index(drop=True)\n",
    "        data[i] = df\n",
    "    return data\n",
    "\n",
    "\n",
    "\n",
    "\n",
    "Group1 = cut_to_common_length(Group1)\n",
    "Group2 = cut_to_common_length(Group2)\n",
    "Group3 = cut_to_common_length(Group3)\n",
    "    \n",
    "\n",
    "    \n"
   ]
  },
  {
   "cell_type": "code",
   "execution_count": 52,
   "metadata": {},
   "outputs": [
    {
     "name": "stdout",
     "output_type": "stream",
     "text": [
      "37\n",
      "39\n",
      "32\n",
      "(143904, 6)\n",
      "(143904, 6)\n"
     ]
    }
   ],
   "source": [
    "print(len(Group1))\n",
    "print(len(Group2))\n",
    "print(len(Group3))\n",
    "\n",
    "print(Group1[0].shape)\n",
    "print(Group1[1].shape)"
   ]
  },
  {
   "cell_type": "code",
   "execution_count": 53,
   "metadata": {},
   "outputs": [
    {
     "name": "stderr",
     "output_type": "stream",
     "text": [
      "/var/folders/46/g0_bbhvd1tx0ynfjdmv4lf600000gn/T/ipykernel_12099/2079067084.py:12: SettingWithCopyWarning: \n",
      "A value is trying to be set on a copy of a slice from a DataFrame\n",
      "\n",
      "See the caveats in the documentation: https://pandas.pydata.org/pandas-docs/stable/user_guide/indexing.html#returning-a-view-versus-a-copy\n",
      "  df['UTC'][i] = utc_to_datetime_string(df['UTC'][i])\n"
     ]
    }
   ],
   "source": [
    "from datetime import datetime\n",
    "import math\n",
    "\n",
    "def utc_to_datetime_string(utc_value):\n",
    "    dt = datetime.fromtimestamp(utc_value)\n",
    "    return dt.strftime('%H %M %S.%f')\n",
    "\n",
    "def convert_to_datetime(df):\n",
    "    for i in range(len(df['UTC'])):\n",
    "        val = df['UTC'][i]\n",
    "        if not math.isnan(val):\n",
    "            df['UTC'][i] = utc_to_datetime_string(df['UTC'][i])\n",
    "    return df\n",
    "\n",
    "\n",
    "\n",
    "\n",
    "Group1 = [convert_to_datetime(df) for df in Group1]\n",
    "Group2 = [convert_to_datetime(df) for df in Group2]\n",
    "Group3 = [convert_to_datetime(df) for df in Group3]\n",
    "\n"
   ]
  },
  {
   "cell_type": "code",
   "execution_count": 54,
   "metadata": {},
   "outputs": [
    {
     "data": {
      "text/plain": "<Figure size 640x480 with 1 Axes>",
      "image/png": "[encoded data removed]"
     },
     "metadata": {},
     "output_type": "display_data"
    }
   ],
   "source": [
    "\n",
    "df = Group1[0]\n",
    "\n",
    "\n",
    "plt.plot(df['DATA'][14000:16000])\n",
    "plt.show()\n"
   ]
  },
  {
   "cell_type": "code",
   "execution_count": 48,
   "metadata": {
    "collapsed": false
   },
   "outputs": [
    {
     "name": "stdout",
     "output_type": "stream",
     "text": [
      "sampling rate is: 23.110 Hz\n"
     ]
    },
    {
     "data": {
      "text/plain": "<Figure size 1200x400 with 1 Axes>",
      "image/png": "[encoded data removed]"
     },
     "metadata": {},
     "output_type": "display_data"
    },
    {
     "name": "stdout",
     "output_type": "stream",
     "text": [
      "mean sampling rate: 23.989\n",
      "median sampling rate: 24.000\n",
      "standard deviation: 0.494\n"
     ]
    }
   ],
   "source": [
    "import heartpy as hp\n",
    "timer = Group1[0]['UTC']\n",
    "sample_rate = hp.get_samplerate_datetime(timer, timeformat='%H %M %S.%f')\n",
    "print('sampling rate is: %.3f Hz' %sample_rate)\n",
    "\n",
    "\n",
    "newtimer = [datetime.strptime(x, '%H %M %S.%f') for x in timer]\n",
    "\n",
    "\n",
    "elapsed = []\n",
    "for i in range(len(newtimer) - 1):\n",
    "    elapsed.append(1 / ((newtimer[i+1] - newtimer[i]).microseconds / 1000000))\n",
    "\n",
    "\n",
    "plt.figure(figsize=(12,4))\n",
    "plt.plot(elapsed)\n",
    "plt.xlabel('Sample number')\n",
    "plt.ylabel('Actual sampling rate in Hz')\n",
    "plt.show()\n",
    "\n",
    "print('mean sampling rate: %.3f' %np.mean(elapsed))\n",
    "print('median sampling rate: %.3f'%np.median(elapsed))\n",
    "print('standard deviation: %.3f'%np.std(elapsed))"
   ]
  },
  {
   "cell_type": "code",
   "execution_count": 55,
   "metadata": {},
   "outputs": [],
   "source": [
    "import heartpy as hp\n",
    "from scipy.signal import resample\n",
    "\n",
    "\n",
    "sample_rate = sample_rate * 10\n",
    "\n",
    "def preprocess_data(data):\n",
    "\n",
    "    data_clean = []\n",
    "\n",
    "    for i in range(len(data)):\n",
    "        df = data[i]\n",
    "\n",
    "\n",
    "\n",
    "        #df['DATA'] = hp.remove_baseline_wander(df['DATA'], sample_rate=25)\n",
    "        #df['DATA'] = hp.filtering.smooth_signal(df['DATA'], sample_rate=25, window_length=5, polyorder=3)\n",
    "        df['DATA'] = hp.filtering.filter_signal(df['DATA'], cutoff=[0.7, 3.5], sample_rate=sample_rate, order=3, filtertype='bandpass')\n",
    "        #df['DATA'] = hp.scale_data(df['DATA'])\n",
    "        data_clean.append(resample(df['DATA'], len(df['DATA']) * 10))\n",
    "        \n",
    "\n",
    "    return data_clean\n",
    "\n",
    "Group1 = preprocess_data(Group1)\n",
    "Group2 = preprocess_data(Group2)\n",
    "Group3 = preprocess_data(Group3)\n"
   ]
  },
  {
   "cell_type": "code",
   "execution_count": 57,
   "metadata": {},
   "outputs": [
    {
     "data": {
      "text/plain": "<Figure size 640x480 with 1 Axes>",
      "image/png": "[encoded data removed]"
     },
     "metadata": {},
     "output_type": "display_data"
    }
   ],
   "source": [
    "df = Group1[0]\n",
    "\n",
    "\n",
    "plt.plot(df)\n",
    "plt.show()"
   ]
  },
  {
   "cell_type": "code",
   "execution_count": 59,
   "outputs": [
    {
     "ename": "TypeError",
     "evalue": "object of type 'NoneType' has no len()",
     "output_type": "error",
     "traceback": [
      "\u001B[0;31m---------------------------------------------------------------------------\u001B[0m",
      "\u001B[0;31mTypeError\u001B[0m                                 Traceback (most recent call last)",
      "Cell \u001B[0;32mIn[59], line 36\u001B[0m\n\u001B[1;32m     31\u001B[0m         \u001B[38;5;28;01mfor\u001B[39;00m k \u001B[38;5;129;01min\u001B[39;00m \u001B[38;5;28mrange\u001B[39m(\u001B[38;5;28mlen\u001B[39m(filtered)):\n\u001B[1;32m     32\u001B[0m             wd, m \u001B[38;5;241m=\u001B[39m hp\u001B[38;5;241m.\u001B[39mprocess(filtered[k], sample_rate \u001B[38;5;241m=\u001B[39m sample_rate,\n\u001B[1;32m     33\u001B[0m                        high_precision\u001B[38;5;241m=\u001B[39m\u001B[38;5;28;01mTrue\u001B[39;00m, clean_rr\u001B[38;5;241m=\u001B[39m\u001B[38;5;28;01mTrue\u001B[39;00m)\n\u001B[0;32m---> 36\u001B[0m Group1 \u001B[38;5;241m=\u001B[39m \u001B[43msegment_data\u001B[49m\u001B[43m(\u001B[49m\u001B[43mGroup1\u001B[49m\u001B[43m)\u001B[49m\n",
      "Cell \u001B[0;32mIn[59], line 5\u001B[0m, in \u001B[0;36msegment_data\u001B[0;34m(data, windowsize)\u001B[0m\n\u001B[1;32m      1\u001B[0m \u001B[38;5;28;01mdef\u001B[39;00m \u001B[38;5;21msegment_data\u001B[39m(data, windowsize\u001B[38;5;241m=\u001B[39m\u001B[38;5;241m100\u001B[39m):\n\u001B[0;32m----> 5\u001B[0m     \u001B[38;5;28;01mfor\u001B[39;00m j \u001B[38;5;129;01min\u001B[39;00m \u001B[38;5;28mrange\u001B[39m(\u001B[38;5;28;43mlen\u001B[39;49m\u001B[43m(\u001B[49m\u001B[43mdata\u001B[49m\u001B[43m)\u001B[49m):\n\u001B[1;32m      6\u001B[0m         raw \u001B[38;5;241m=\u001B[39m data[j]\n\u001B[1;32m      7\u001B[0m         mx \u001B[38;5;241m=\u001B[39m np\u001B[38;5;241m.\u001B[39mmax(raw)\n",
      "\u001B[0;31mTypeError\u001B[0m: object of type 'NoneType' has no len()"
     ]
    }
   ],
   "source": [
    "def segment_data(data, windowsize=100):\n",
    "\n",
    "\n",
    "\n",
    "    for j in range(len(data)):\n",
    "        raw = data[j]\n",
    "        mx = np.max(raw)\n",
    "        mn = np.min(raw)\n",
    "        global_range = mx - mn\n",
    "\n",
    "\n",
    "        filtered = []\n",
    "        for i in range(len(raw) // windowsize):\n",
    "            start = i * windowsize\n",
    "            end = (i + 1) * windowsize\n",
    "            sliced = raw[start:end]\n",
    "            rng = np.max(sliced) - np.min(sliced)\n",
    "\n",
    "            if ((rng >= (0.5 * global_range))\n",
    "                or\n",
    "                (np.max(sliced) >= 0.9 * mx)\n",
    "                or\n",
    "                (np.min(sliced) <= mn + (0.1 * mn))):\n",
    "\n",
    "                for x in sliced:\n",
    "                    filtered.append(0)\n",
    "            else:\n",
    "                for x in sliced:\n",
    "                    filtered.append(x)\n",
    "\n",
    "        for k in range(len(filtered)):\n",
    "            wd, m = hp.process(filtered[k], sample_rate = sample_rate,\n",
    "                       high_precision=True, clean_rr=True)\n",
    "\n",
    "\n",
    "Group1 = segment_data(Group1)"
   ],
   "metadata": {
    "collapsed": false
   }
  },
  {
   "cell_type": "code",
   "execution_count": null,
   "outputs": [],
   "source": [],
   "metadata": {
    "collapsed": false
   }
  }
 ],
 "metadata": {
  "kernelspec": {
   "display_name": "Python 3 (ipykernel)",
   "language": "python",
   "name": "python3"
  },
  "language_info": {
   "codemirror_mode": {
    "name": "ipython",
    "version": 3
   },
   "file_extension": ".py",
   "mimetype": "text/x-python",
   "name": "python",
   "nbconvert_exporter": "python",
   "pygments_lexer": "ipython3",
   "version": "3.10.11"
  },
  "orig_nbformat": 4
 },
 "nbformat": 4,
 "nbformat_minor": 2
}
